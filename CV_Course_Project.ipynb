{
  "nbformat": 4,
  "nbformat_minor": 0,
  "metadata": {
    "colab": {
      "name": "Computer_Vision_Course_Project.ipynb",
      "provenance": [],
      "collapsed_sections": [
        "MStmV62Zhkb_",
        "NEpGq0Woho6R",
        "jo7VxtiAUKT2",
        "rcjTpxOwhy6y",
        "NU32Mmqdh45o",
        "AK67ntoBh_ET",
        "nBBLrDVhiFt5",
        "7LTd1IIhsm7e",
        "8DY0mGyasqnD",
        "avf5EYDoIUQF",
        "hO3BnPJD_fnH"
      ]
    },
    "kernelspec": {
      "name": "python3",
      "display_name": "Python 3"
    },
    "language_info": {
      "name": "python"
    },
    "accelerator": "GPU"
  },
  "cells": [
    {
      "cell_type": "markdown",
      "source": [
        "#Dependencies"
      ],
      "metadata": {
        "id": "MStmV62Zhkb_"
      }
    },
    {
      "cell_type": "code",
      "source": [
        "!pip install keras_self_attention"
      ],
      "metadata": {
        "id": "dNf5MUkphmtD"
      },
      "execution_count": null,
      "outputs": []
    },
    {
      "cell_type": "markdown",
      "source": [
        "#Imports"
      ],
      "metadata": {
        "id": "NEpGq0Woho6R"
      }
    },
    {
      "cell_type": "code",
      "source": [
        "import numpy as np\n",
        "import matplotlib.pyplot as plt\n",
        "import tensorflow as tf\n",
        "import glob\n",
        "import os\n",
        "from PIL import Image\n",
        "from mpl_toolkits import mplot3d\n",
        "from tensorflow import keras\n",
        "from keras_self_attention import SeqSelfAttention as Attention\n",
        "from tensorflow.keras.utils import plot_model\n",
        "from keras.utils.np_utils import to_categorical\n",
        "from keras import applications\n",
        "from keras.layers import InputLayer, Dropout, Bidirectional, Masking, LSTM, Dense, Activation, Flatten, Input, concatenate, Embedding\n",
        "from keras import backend as K \n",
        "from sklearn.model_selection import train_test_split\n",
        "from keras import callbacks\n",
        "from keras.models import Model, Sequential\n",
        "from tensorflow.python.client import device_lib"
      ],
      "metadata": {
        "id": "2LCQhCDAlbiX"
      },
      "execution_count": 2,
      "outputs": []
    },
    {
      "cell_type": "markdown",
      "source": [
        "#Visualization functions"
      ],
      "metadata": {
        "id": "jo7VxtiAUKT2"
      }
    },
    {
      "cell_type": "code",
      "source": [
        "def rotate(matrix, degree):\n",
        "\n",
        "  radian = (degree * np.pi) / 180\n",
        "\n",
        "  rx = np.array([[1, 0, 0], \n",
        "                 [0, np.cos(radian), -np.sin(radian)],\n",
        "                 [0, np.sin(radian), np.cos(radian)]])\n",
        "    \n",
        "  return np.dot(rx, matrix)"
      ],
      "metadata": {
        "id": "QRcR-teGUM8m"
      },
      "execution_count": 81,
      "outputs": []
    },
    {
      "cell_type": "code",
      "source": [
        "def savingRule(num):\n",
        "\n",
        "    alphabets = 'abcdefghijklmnopqrstuvwxyz'\n",
        "    numbers = '0123456789'\n",
        "    len_up = len(alphabets) * len(numbers)\n",
        "    len_down = len(numbers)\n",
        "\n",
        "    lft1, num = num // len_up, num % len_up\n",
        "\n",
        "    lft2, lft3 = num // len_down, num % len_down\n",
        "\n",
        "    name = alphabets[lft1] + alphabets[lft2] + numbers[lft3]\n",
        "\n",
        "    return name"
      ],
      "metadata": {
        "id": "rGriuTvwUSRG"
      },
      "execution_count": 82,
      "outputs": []
    },
    {
      "cell_type": "code",
      "source": [
        "def makeGIF(name, duration):\n",
        "\n",
        "  fp_in = \"*_plot.png\"\n",
        "  fp_out = name + \".gif\"\n",
        "\n",
        "  img, *imgs = [Image.open(f) for f in sorted(glob.glob(fp_in))]\n",
        "\n",
        "  img.save(fp=fp_out, format='GIF', append_images=imgs,\n",
        "          save_all=True, duration=duration, loop=0)"
      ],
      "metadata": {
        "id": "ukcbEhnpUSTc"
      },
      "execution_count": 83,
      "outputs": []
    },
    {
      "cell_type": "code",
      "source": [
        "def visualize(file_number=0, verbose=True):\n",
        "\n",
        "  for frn in range(bd_test.shape[1]):\n",
        "\n",
        "    body = bd_test[file_number, frn, :].reshape(5, 3).T\n",
        "    right_hand = rh_test[file_number, frn, :].reshape(6, 3).T\n",
        "    left_hand = lh_test[file_number, frn, :].reshape(6, 3).T\n",
        "    right_foot = rf_test[file_number, frn, :].reshape(4, 3).T\n",
        "    left_foot = lf_test[file_number, frn, :].reshape(4, 3).T\n",
        "\n",
        "    degree = 105\n",
        "\n",
        "    body = rotate(body, degree).T\n",
        "    right_hand = rotate(right_hand, degree).T\n",
        "    left_hand = rotate(left_hand, degree).T\n",
        "    right_foot = rotate(right_foot, degree).T\n",
        "    left_foot = rotate(left_foot, degree).T\n",
        "\n",
        "    x1, y1, z1 = body[:, 0], body[:, 1], body[:, 2]\n",
        "    x2, y2, z2 = right_hand[:, 0], right_hand[:, 1], right_hand[:, 2]\n",
        "    x3, y3, z3 = left_hand[:, 0], left_hand[:, 1], left_hand[:, 2]\n",
        "    x4, y4, z4 = right_foot[:, 0], right_foot[:, 1], right_foot[:, 2]\n",
        "    x5, y5, z5 = left_foot[:, 0], left_foot[:, 1], left_foot[:, 2]\n",
        "\n",
        "    if (body == np.zeros(body.shape)).all():\n",
        "\n",
        "      break\n",
        "    \n",
        "    fig = plt.figure(figsize = (12, 8))\n",
        "    ax = plt.axes(projection =\"3d\")\n",
        "    ax.set_facecolor(\"white\")\n",
        "\n",
        "    ax.plot(y1, x1, z1, color = \"green\", marker='o')\n",
        "    ax.plot(y2, x2, z2, color = \"red\", marker='o')\n",
        "    ax.plot([y1[2], y2[0]], [x1[2], x2[0]], [z1[2], z2[0]], color='red')\n",
        "    ax.plot(y3, x3, z3, color = \"blue\", marker='o')\n",
        "    ax.plot([y1[2], y3[0]], [x1[2], x3[0]], [z1[2], z3[0]], color= 'blue')\n",
        "    ax.plot(y4, x4, z4, color = \"black\", marker='o')\n",
        "    ax.plot([y1[0], y4[-1]], [x1[0], x4[-1]], [z1[0], z4[-1]], color= 'black')\n",
        "    ax.plot(y5, x5, z5, color = \"orange\", marker='o')\n",
        "    ax.plot([y1[0], y5[-1]], [x1[0], x5[-1]], [z1[0], z5[-1]], color= 'orange')\n",
        "\n",
        "    plt.grid(b=False)\n",
        "    #plt.xlim(-4, -3)\n",
        "    plt.xlim(-3.6, -2.6)\n",
        "    plt.ylim(-1.5, +1.5)\n",
        "\n",
        "    real_label = label_list[int(label_dic[label_test[file_number]+1])-1]\n",
        "    predicted_label = label_list[int(label_dic[pre_labels[file_number]+1])-1]\n",
        "\n",
        "    fl_tr = \"True Prediction\" if real_label == predicted_label else \"False Prediction\"\n",
        "    \n",
        "    plt.title(f\"{fl_tr}\\nReal label:{real_label}, Predicted label:{predicted_label} Frame:{frn+1}\")\n",
        "    plt.savefig(f'{real_label}_{savingRule(frn)}_plot.png')\n",
        "\n",
        "    if not verbose:\n",
        "      plt.close(fig)\n",
        "      \n",
        "    plt.show()\n",
        "\n",
        "  makeGIF(name=f\"{real_label}\", duration=250)"
      ],
      "metadata": {
        "id": "N_WD8u97UbYA"
      },
      "execution_count": 84,
      "outputs": []
    },
    {
      "cell_type": "markdown",
      "source": [
        "#Test the availability of GPU"
      ],
      "metadata": {
        "id": "rcjTpxOwhy6y"
      }
    },
    {
      "cell_type": "code",
      "source": [
        "print(device_lib.list_local_devices())\n",
        "print(\"Num GPUs Available: \", len(tf.config.list_physical_devices('GPU')))"
      ],
      "metadata": {
        "id": "zbplA8Wz3p8-"
      },
      "execution_count": null,
      "outputs": []
    },
    {
      "cell_type": "markdown",
      "source": [
        "#Data Loading"
      ],
      "metadata": {
        "id": "NU32Mmqdh45o"
      }
    },
    {
      "cell_type": "code",
      "source": [
        "bd = np.load(\"/content/drive/MyDrive/dataset/body.npy\")\n",
        "rh = np.load(\"/content/drive/MyDrive/dataset/right_hand.npy\")\n",
        "lh = np.load(\"/content/drive/MyDrive/dataset/left_hand.npy\")\n",
        "rf = np.load(\"/content/drive/MyDrive/dataset/right_foot.npy\")\n",
        "lf = np.load(\"/content/drive/MyDrive/dataset/left_foot.npy\")"
      ],
      "metadata": {
        "id": "zLKl879tldsP"
      },
      "execution_count": 4,
      "outputs": []
    },
    {
      "cell_type": "code",
      "source": [
        "label = np.load(\"/content/drive/MyDrive/dataset/label60.npy\")"
      ],
      "metadata": {
        "id": "o0e_-4iUlghW"
      },
      "execution_count": 5,
      "outputs": []
    },
    {
      "cell_type": "code",
      "source": [
        "label_list = ['drink-water', 'eat-meal', 'brush-teeth', 'brush-hair', 'drop',\n",
        "              'pick-up', 'throw', 'sit-down', 'stand-up', 'clapping', 'reading',\n",
        "              'writing', 'tear-up-paper', 'put-on-jacket', 'take-off-jacket',\n",
        "              'put-on-a-shoe', 'take-off-a-shoe', 'put-on-glasses', 'take-off-glasses',\n",
        "              'put-on-a-hat-cap', 'take-off-a-hat-cap', 'cheer-up', 'hand-waving',\n",
        "              'kicking-something', 'reach-into-pocket', 'hopping', 'jump-up',\n",
        "              'phone-call', 'play-with-phone-tablet', 'type-on-a-keyboard',\n",
        "              'point-to-something', 'taking-a-selfie', 'check-time-(from watch)',\n",
        "              'rub-two-hands', 'nod-head-bow', 'shake-head', 'wipe-face', 'salute',\n",
        "              'put-palms-together', 'cross-hands-in-front', 'sneeze-cough',\n",
        "              'staggering', 'falling-down', 'headache', 'chest-pain', 'back-pain',\n",
        "              'neck-pain', 'nausea-vomiting', 'fan-self', 'punch-slap', 'kicking',\n",
        "              'pushing', 'pat-on-back', 'point-finger', 'hugging', 'giving-object',\n",
        "              'touch-pocket', 'shaking-hands', 'walking-towards', 'walking-apart']"
      ],
      "metadata": {
        "id": "qnR6C_GGUkVn"
      },
      "execution_count": 85,
      "outputs": []
    },
    {
      "cell_type": "markdown",
      "source": [
        "#Randomly select 20 labels"
      ],
      "metadata": {
        "id": "AK67ntoBh_ET"
      }
    },
    {
      "cell_type": "code",
      "source": [
        "res_lbls = np.array([3., 5., 7., 12., 13., 17., 19., 22., 24., 27., 32., 35., 37., 41., 46., 48., 51., 55., 57., 59.])\n",
        "label_dic = {k+1:v for (k, v) in enumerate(res_lbls)}\n",
        "\n",
        "indexes = np.array([])\n",
        "\n",
        "for el in res_lbls:\n",
        "    \n",
        "    idx = np.where(label == el)[0][:200]\n",
        "    \n",
        "    indexes = np.append(indexes, idx)\n",
        "    \n",
        "indexes = np.sort(indexes).astype(np.int)\n",
        "print(len(indexes))"
      ],
      "metadata": {
        "colab": {
          "base_uri": "https://localhost:8080/"
        },
        "id": "eUy0gXl3lgkD",
        "outputId": "850e79df-1e65-4ed8-c27e-0cc4f57167e5"
      },
      "execution_count": 6,
      "outputs": [
        {
          "output_type": "stream",
          "name": "stdout",
          "text": [
            "4000\n"
          ]
        }
      ]
    },
    {
      "cell_type": "code",
      "source": [
        "bd1 = bd[indexes, :, :]\n",
        "rh1 = rh[indexes, :, :]\n",
        "lh1 = lh[indexes, :, :]\n",
        "rf1 = rf[indexes, :, :]\n",
        "lf1 = lf[indexes, :, :]\n",
        "label1 = label[indexes]"
      ],
      "metadata": {
        "id": "9NYZK48mlgmQ"
      },
      "execution_count": 7,
      "outputs": []
    },
    {
      "cell_type": "code",
      "source": [
        "for (k, v) in label_dic.items():\n",
        "        \n",
        "    label1[np.where(label1 == v)] = k"
      ],
      "metadata": {
        "id": "4K7NeAntlgo8"
      },
      "execution_count": 8,
      "outputs": []
    },
    {
      "cell_type": "code",
      "source": [
        "cat_target = to_categorical(label1)\n",
        "cat_target = np.delete(cat_target, 0, 1)"
      ],
      "metadata": {
        "id": "9eIMvEHrlmpI"
      },
      "execution_count": 9,
      "outputs": []
    },
    {
      "cell_type": "markdown",
      "source": [
        "#Split data into train-valid and test sets"
      ],
      "metadata": {
        "id": "nBBLrDVhiFt5"
      }
    },
    {
      "cell_type": "code",
      "source": [
        "n = int(0.9 * len(indexes))\n",
        "\n",
        "bd_train_valid = bd1[:n, :, :]\n",
        "rh_train_valid = rh1[:n, :, :]\n",
        "lh_train_valid = lh1[:n, :, :]\n",
        "rf_train_valid = rf1[:n, :, :]\n",
        "lf_train_valid = lf1[:n, :, :]\n",
        "cat_target_train_valid = cat_target[:n]"
      ],
      "metadata": {
        "id": "D5YaZQ1Nlmro"
      },
      "execution_count": 10,
      "outputs": []
    },
    {
      "cell_type": "code",
      "source": [
        "bd_test = bd1[n:, :, :]\n",
        "rh_test = rh1[n:, :, :]\n",
        "lh_test = lh1[n:, :, :]\n",
        "rf_test = rf1[n:, :, :]\n",
        "lf_test = lf1[n:, :, :]\n",
        "cat_target_test = cat_target[n:]"
      ],
      "metadata": {
        "id": "bSu6RPzilmuK"
      },
      "execution_count": 11,
      "outputs": []
    },
    {
      "cell_type": "markdown",
      "source": [
        "#Model"
      ],
      "metadata": {
        "id": "7LTd1IIhsm7e"
      }
    },
    {
      "cell_type": "code",
      "source": [
        "def create_keras_model():\n",
        "\n",
        "    bdbd = Input(shape=(300,15))\n",
        "    bd1  = Attention()(bdbd) \n",
        "    bd1  = LSTM(32, activation='tanh', return_sequences=True)(bd1)\n",
        "\n",
        "    rhrh = Input(shape=(300,18))\n",
        "    rh1  = Attention()(rhrh) \n",
        "    rh1  = LSTM(32, activation='tanh', return_sequences=True)(rh1)\n",
        "\n",
        "    lhlh = Input(shape=(300,18))\n",
        "    lh1  = Attention()(lhlh) \n",
        "    lh1  = LSTM(32, activation='tanh', return_sequences=True)(lh1)\n",
        "\n",
        "    rfrf = Input(shape=(300,12))\n",
        "    rf1  = Attention()(rfrf) \n",
        "    rf1  = LSTM(32, activation='tanh', return_sequences=True)(rf1)\n",
        "\n",
        "    lflf = Input(shape=(300,12))\n",
        "    lf1  = Attention()(lflf) \n",
        "    lf1  = LSTM(32, activation='tanh', return_sequences=True)(lf1)\n",
        "\n",
        "\n",
        "    bdrh  = concatenate([bd1, rh1],axis=-1)\n",
        "    bdrh1 = LSTM(32, activation='tanh', return_sequences=True)(bdrh)\n",
        "\n",
        "    bdlh  = concatenate([bd1, lh1],axis=-1)\n",
        "    bdlh1 = LSTM(32, activation='tanh', return_sequences=True)(bdlh)\n",
        "\n",
        "    bdrf  = concatenate([bd1, rf1],axis=-1)\n",
        "    bdrf1 = LSTM(32, activation='tanh', return_sequences=True)(bdrf)\n",
        "\n",
        "    bdlf  = concatenate([bd1, lf1],axis=-1)\n",
        "    bdlf1 = LSTM(32, activation='tanh', return_sequences=True)(bdlf)\n",
        "\n",
        "\n",
        "    upbody  = concatenate([bdrh1, bdlh1],axis=-1)\n",
        "    upbody1 = LSTM(32, activation='tanh', return_sequences=True)(upbody)\n",
        "\n",
        "    downbody  = concatenate([bdrf1, bdlf1],axis=-1)\n",
        "    downbody1 = LSTM(32, activation='tanh', return_sequences=True)(downbody)\n",
        "\n",
        "    body  = concatenate([upbody1, downbody1],axis=-1)\n",
        "    body1 = LSTM(8, activation='tanh')(body)\n",
        "\n",
        "    out = Dense(20, activation='softmax')(body1)\n",
        "\n",
        "    model = Model([bdbd, rhrh, lhlh, rfrf, lflf], out)\n",
        "        \n",
        "    opt = keras.optimizers.RMSprop(learning_rate=0.0005)\n",
        "    \n",
        "    model.compile(optimizer=opt, loss='categorical_crossentropy',  metrics=['acc'])\n",
        "\n",
        "    return model"
      ],
      "metadata": {
        "id": "uKipLBR6lmwo"
      },
      "execution_count": 12,
      "outputs": []
    },
    {
      "cell_type": "code",
      "source": [
        "model=create_keras_model()\n",
        "model.summary()\n",
        "plot_model(model, to_file='hierarchy-model.png')"
      ],
      "metadata": {
        "id": "q1dokdh8lmzM",
        "colab": {
          "base_uri": "https://localhost:8080/",
          "height": 1000
        },
        "outputId": "bda56463-1354-4cfa-e17b-dd00dcd36f37"
      },
      "execution_count": 13,
      "outputs": [
        {
          "output_type": "stream",
          "name": "stdout",
          "text": [
            "Model: \"model\"\n",
            "__________________________________________________________________________________________________\n",
            " Layer (type)                   Output Shape         Param #     Connected to                     \n",
            "==================================================================================================\n",
            " input_1 (InputLayer)           [(None, 300, 15)]    0           []                               \n",
            "                                                                                                  \n",
            " input_2 (InputLayer)           [(None, 300, 18)]    0           []                               \n",
            "                                                                                                  \n",
            " input_3 (InputLayer)           [(None, 300, 18)]    0           []                               \n",
            "                                                                                                  \n",
            " input_4 (InputLayer)           [(None, 300, 12)]    0           []                               \n",
            "                                                                                                  \n",
            " input_5 (InputLayer)           [(None, 300, 12)]    0           []                               \n",
            "                                                                                                  \n",
            " seq_self_attention (SeqSelfAtt  (None, 300, 15)     1025        ['input_1[0][0]']                \n",
            " ention)                                                                                          \n",
            "                                                                                                  \n",
            " seq_self_attention_1 (SeqSelfA  (None, 300, 18)     1217        ['input_2[0][0]']                \n",
            " ttention)                                                                                        \n",
            "                                                                                                  \n",
            " seq_self_attention_2 (SeqSelfA  (None, 300, 18)     1217        ['input_3[0][0]']                \n",
            " ttention)                                                                                        \n",
            "                                                                                                  \n",
            " seq_self_attention_3 (SeqSelfA  (None, 300, 12)     833         ['input_4[0][0]']                \n",
            " ttention)                                                                                        \n",
            "                                                                                                  \n",
            " seq_self_attention_4 (SeqSelfA  (None, 300, 12)     833         ['input_5[0][0]']                \n",
            " ttention)                                                                                        \n",
            "                                                                                                  \n",
            " lstm (LSTM)                    (None, 300, 32)      6144        ['seq_self_attention[0][0]']     \n",
            "                                                                                                  \n",
            " lstm_1 (LSTM)                  (None, 300, 32)      6528        ['seq_self_attention_1[0][0]']   \n",
            "                                                                                                  \n",
            " lstm_2 (LSTM)                  (None, 300, 32)      6528        ['seq_self_attention_2[0][0]']   \n",
            "                                                                                                  \n",
            " lstm_3 (LSTM)                  (None, 300, 32)      5760        ['seq_self_attention_3[0][0]']   \n",
            "                                                                                                  \n",
            " lstm_4 (LSTM)                  (None, 300, 32)      5760        ['seq_self_attention_4[0][0]']   \n",
            "                                                                                                  \n",
            " concatenate (Concatenate)      (None, 300, 64)      0           ['lstm[0][0]',                   \n",
            "                                                                  'lstm_1[0][0]']                 \n",
            "                                                                                                  \n",
            " concatenate_1 (Concatenate)    (None, 300, 64)      0           ['lstm[0][0]',                   \n",
            "                                                                  'lstm_2[0][0]']                 \n",
            "                                                                                                  \n",
            " concatenate_2 (Concatenate)    (None, 300, 64)      0           ['lstm[0][0]',                   \n",
            "                                                                  'lstm_3[0][0]']                 \n",
            "                                                                                                  \n",
            " concatenate_3 (Concatenate)    (None, 300, 64)      0           ['lstm[0][0]',                   \n",
            "                                                                  'lstm_4[0][0]']                 \n",
            "                                                                                                  \n",
            " lstm_5 (LSTM)                  (None, 300, 32)      12416       ['concatenate[0][0]']            \n",
            "                                                                                                  \n",
            " lstm_6 (LSTM)                  (None, 300, 32)      12416       ['concatenate_1[0][0]']          \n",
            "                                                                                                  \n",
            " lstm_7 (LSTM)                  (None, 300, 32)      12416       ['concatenate_2[0][0]']          \n",
            "                                                                                                  \n",
            " lstm_8 (LSTM)                  (None, 300, 32)      12416       ['concatenate_3[0][0]']          \n",
            "                                                                                                  \n",
            " concatenate_4 (Concatenate)    (None, 300, 64)      0           ['lstm_5[0][0]',                 \n",
            "                                                                  'lstm_6[0][0]']                 \n",
            "                                                                                                  \n",
            " concatenate_5 (Concatenate)    (None, 300, 64)      0           ['lstm_7[0][0]',                 \n",
            "                                                                  'lstm_8[0][0]']                 \n",
            "                                                                                                  \n",
            " lstm_9 (LSTM)                  (None, 300, 32)      12416       ['concatenate_4[0][0]']          \n",
            "                                                                                                  \n",
            " lstm_10 (LSTM)                 (None, 300, 32)      12416       ['concatenate_5[0][0]']          \n",
            "                                                                                                  \n",
            " concatenate_6 (Concatenate)    (None, 300, 64)      0           ['lstm_9[0][0]',                 \n",
            "                                                                  'lstm_10[0][0]']                \n",
            "                                                                                                  \n",
            " lstm_11 (LSTM)                 (None, 8)            2336        ['concatenate_6[0][0]']          \n",
            "                                                                                                  \n",
            " dense (Dense)                  (None, 20)           180         ['lstm_11[0][0]']                \n",
            "                                                                                                  \n",
            "==================================================================================================\n",
            "Total params: 112,857\n",
            "Trainable params: 112,857\n",
            "Non-trainable params: 0\n",
            "__________________________________________________________________________________________________\n"
          ]
        },
        {
          "output_type": "execute_result",
          "data": {
            "image/png": "[encoded data removed]",
            "text/plain": [
              "<IPython.core.display.Image object>"
            ]
          },
          "metadata": {},
          "execution_count": 13
        }
      ]
    },
    {
      "cell_type": "markdown",
      "source": [
        "#Train, save and evaluate the model"
      ],
      "metadata": {
        "id": "8DY0mGyasqnD"
      }
    },
    {
      "cell_type": "code",
      "source": [
        "%%time\n",
        "hist = model.fit([bd_train_valid,rh_train_valid,lh_train_valid,rf_train_valid,lf_train_valid],\n",
        "          cat_target_train_valid,\n",
        "          epochs=250,\n",
        "          validation_split=0.0,\n",
        "          batch_size=64)"
      ],
      "metadata": {
        "id": "IqUixdWilu-b",
        "colab": {
          "base_uri": "https://localhost:8080/"
        },
        "outputId": "b21c6e2f-c394-48f5-a1cb-5d1fbf122732"
      },
      "execution_count": 14,
      "outputs": [
        {
          "output_type": "stream",
          "name": "stdout",
          "text": [
            "Epoch 1/250\n",
            "57/57 [==============================] - 43s 387ms/step - loss: 2.9503 - acc: 0.0839\n",
            "Epoch 2/250\n",
            "57/57 [==============================] - 22s 391ms/step - loss: 2.8087 - acc: 0.1228\n",
            "Epoch 3/250\n",
            "57/57 [==============================] - 23s 395ms/step - loss: 2.7077 - acc: 0.1533\n",
            "Epoch 4/250\n",
            "57/57 [==============================] - 22s 394ms/step - loss: 2.6516 - acc: 0.1661\n",
            "Epoch 5/250\n",
            "57/57 [==============================] - 22s 393ms/step - loss: 2.5788 - acc: 0.1814\n",
            "Epoch 6/250\n",
            "57/57 [==============================] - 22s 393ms/step - loss: 2.5526 - acc: 0.1869\n",
            "Epoch 7/250\n",
            "57/57 [==============================] - 22s 394ms/step - loss: 2.5092 - acc: 0.2131\n",
            "Epoch 8/250\n",
            "57/57 [==============================] - 22s 394ms/step - loss: 2.5086 - acc: 0.2214\n",
            "Epoch 9/250\n",
            "57/57 [==============================] - 23s 395ms/step - loss: 2.4532 - acc: 0.2233\n",
            "Epoch 10/250\n",
            "57/57 [==============================] - 22s 394ms/step - loss: 2.4092 - acc: 0.2372\n",
            "Epoch 11/250\n",
            "57/57 [==============================] - 22s 394ms/step - loss: 2.3775 - acc: 0.2386\n",
            "Epoch 12/250\n",
            "57/57 [==============================] - 23s 395ms/step - loss: 2.3558 - acc: 0.2497\n",
            "Epoch 13/250\n",
            "57/57 [==============================] - 22s 394ms/step - loss: 2.3867 - acc: 0.2511\n",
            "Epoch 14/250\n",
            "57/57 [==============================] - 22s 394ms/step - loss: 2.2952 - acc: 0.2689\n",
            "Epoch 15/250\n",
            "57/57 [==============================] - 22s 393ms/step - loss: 2.2747 - acc: 0.2856\n",
            "Epoch 16/250\n",
            "57/57 [==============================] - 22s 393ms/step - loss: 2.2860 - acc: 0.2794\n",
            "Epoch 17/250\n",
            "57/57 [==============================] - 22s 394ms/step - loss: 2.2414 - acc: 0.2861\n",
            "Epoch 18/250\n",
            "57/57 [==============================] - 22s 394ms/step - loss: 2.2084 - acc: 0.2919\n",
            "Epoch 19/250\n",
            "57/57 [==============================] - 22s 394ms/step - loss: 2.2151 - acc: 0.2906\n",
            "Epoch 20/250\n",
            "57/57 [==============================] - 22s 395ms/step - loss: 2.1918 - acc: 0.2978\n",
            "Epoch 21/250\n",
            "57/57 [==============================] - 22s 393ms/step - loss: 2.1354 - acc: 0.3169\n",
            "Epoch 22/250\n",
            "57/57 [==============================] - 23s 395ms/step - loss: 2.1154 - acc: 0.3158\n",
            "Epoch 23/250\n",
            "57/57 [==============================] - 22s 394ms/step - loss: 2.1013 - acc: 0.3308\n",
            "Epoch 24/250\n",
            "57/57 [==============================] - 22s 393ms/step - loss: 2.0892 - acc: 0.3236\n",
            "Epoch 25/250\n",
            "57/57 [==============================] - 23s 395ms/step - loss: 2.0545 - acc: 0.3417\n",
            "Epoch 26/250\n",
            "57/57 [==============================] - 22s 393ms/step - loss: 2.0311 - acc: 0.3472\n",
            "Epoch 27/250\n",
            "57/57 [==============================] - 22s 394ms/step - loss: 2.0207 - acc: 0.3486\n",
            "Epoch 28/250\n",
            "57/57 [==============================] - 23s 395ms/step - loss: 1.9986 - acc: 0.3572\n",
            "Epoch 29/250\n",
            "57/57 [==============================] - 22s 393ms/step - loss: 1.9977 - acc: 0.3611\n",
            "Epoch 30/250\n",
            "57/57 [==============================] - 22s 394ms/step - loss: 1.9675 - acc: 0.3719\n",
            "Epoch 31/250\n",
            "57/57 [==============================] - 22s 394ms/step - loss: 1.9522 - acc: 0.3758\n",
            "Epoch 32/250\n",
            "57/57 [==============================] - 23s 395ms/step - loss: 1.9257 - acc: 0.3872\n",
            "Epoch 33/250\n",
            "57/57 [==============================] - 22s 395ms/step - loss: 1.9084 - acc: 0.3911\n",
            "Epoch 34/250\n",
            "57/57 [==============================] - 23s 395ms/step - loss: 1.8970 - acc: 0.3911\n",
            "Epoch 35/250\n",
            "57/57 [==============================] - 22s 394ms/step - loss: 1.9788 - acc: 0.3708\n",
            "Epoch 36/250\n",
            "57/57 [==============================] - 22s 394ms/step - loss: 1.9037 - acc: 0.3967\n",
            "Epoch 37/250\n",
            "57/57 [==============================] - 23s 395ms/step - loss: 1.8594 - acc: 0.4067\n",
            "Epoch 38/250\n",
            "57/57 [==============================] - 22s 394ms/step - loss: 1.8467 - acc: 0.4111\n",
            "Epoch 39/250\n",
            "57/57 [==============================] - 22s 394ms/step - loss: 1.8200 - acc: 0.4183\n",
            "Epoch 40/250\n",
            "57/57 [==============================] - 22s 393ms/step - loss: 1.7954 - acc: 0.4228\n",
            "Epoch 41/250\n",
            "57/57 [==============================] - 22s 394ms/step - loss: 1.7949 - acc: 0.4250\n",
            "Epoch 42/250\n",
            "57/57 [==============================] - 22s 394ms/step - loss: 1.7676 - acc: 0.4406\n",
            "Epoch 43/250\n",
            "57/57 [==============================] - 22s 393ms/step - loss: 1.7583 - acc: 0.4469\n",
            "Epoch 44/250\n",
            "57/57 [==============================] - 22s 394ms/step - loss: 1.7498 - acc: 0.4453\n",
            "Epoch 45/250\n",
            "57/57 [==============================] - 22s 394ms/step - loss: 1.7212 - acc: 0.4567\n",
            "Epoch 46/250\n",
            "57/57 [==============================] - 22s 394ms/step - loss: 1.7149 - acc: 0.4558\n",
            "Epoch 47/250\n",
            "57/57 [==============================] - 22s 394ms/step - loss: 1.7057 - acc: 0.4564\n",
            "Epoch 48/250\n",
            "57/57 [==============================] - 22s 394ms/step - loss: 1.6709 - acc: 0.4636\n",
            "Epoch 49/250\n",
            "57/57 [==============================] - 23s 395ms/step - loss: 1.6910 - acc: 0.4567\n",
            "Epoch 50/250\n",
            "57/57 [==============================] - 22s 394ms/step - loss: 1.6294 - acc: 0.4778\n",
            "Epoch 51/250\n",
            "57/57 [==============================] - 22s 395ms/step - loss: 1.6466 - acc: 0.4686\n",
            "Epoch 52/250\n",
            "57/57 [==============================] - 22s 394ms/step - loss: 1.6165 - acc: 0.4867\n",
            "Epoch 53/250\n",
            "57/57 [==============================] - 22s 395ms/step - loss: 1.6020 - acc: 0.4867\n",
            "Epoch 54/250\n",
            "57/57 [==============================] - 22s 395ms/step - loss: 1.5928 - acc: 0.4947\n",
            "Epoch 55/250\n",
            "57/57 [==============================] - 22s 394ms/step - loss: 1.5812 - acc: 0.4989\n",
            "Epoch 56/250\n",
            "57/57 [==============================] - 22s 394ms/step - loss: 1.5711 - acc: 0.5033\n",
            "Epoch 57/250\n",
            "57/57 [==============================] - 22s 393ms/step - loss: 1.5547 - acc: 0.5011\n",
            "Epoch 58/250\n",
            "57/57 [==============================] - 22s 394ms/step - loss: 1.5492 - acc: 0.4997\n",
            "Epoch 59/250\n",
            "57/57 [==============================] - 22s 395ms/step - loss: 1.5258 - acc: 0.5039\n",
            "Epoch 60/250\n",
            "57/57 [==============================] - 22s 393ms/step - loss: 1.5088 - acc: 0.5103\n",
            "Epoch 61/250\n",
            "57/57 [==============================] - 23s 395ms/step - loss: 1.4903 - acc: 0.5308\n",
            "Epoch 62/250\n",
            "57/57 [==============================] - 23s 395ms/step - loss: 1.4801 - acc: 0.5233\n",
            "Epoch 63/250\n",
            "57/57 [==============================] - 22s 394ms/step - loss: 1.4685 - acc: 0.5250\n",
            "Epoch 64/250\n",
            "57/57 [==============================] - 22s 394ms/step - loss: 1.4643 - acc: 0.5303\n",
            "Epoch 65/250\n",
            "57/57 [==============================] - 22s 393ms/step - loss: 1.4299 - acc: 0.5478\n",
            "Epoch 66/250\n",
            "57/57 [==============================] - 22s 394ms/step - loss: 1.4195 - acc: 0.5467\n",
            "Epoch 67/250\n",
            "57/57 [==============================] - 22s 392ms/step - loss: 1.4276 - acc: 0.5475\n",
            "Epoch 68/250\n",
            "57/57 [==============================] - 22s 393ms/step - loss: 1.3988 - acc: 0.5547\n",
            "Epoch 69/250\n",
            "57/57 [==============================] - 22s 392ms/step - loss: 1.3863 - acc: 0.5636\n",
            "Epoch 70/250\n",
            "57/57 [==============================] - 22s 392ms/step - loss: 1.3874 - acc: 0.5528\n",
            "Epoch 71/250\n",
            "57/57 [==============================] - 22s 393ms/step - loss: 1.3800 - acc: 0.5572\n",
            "Epoch 72/250\n",
            "57/57 [==============================] - 22s 392ms/step - loss: 1.3550 - acc: 0.5675\n",
            "Epoch 73/250\n",
            "57/57 [==============================] - 22s 393ms/step - loss: 1.3452 - acc: 0.5700\n",
            "Epoch 74/250\n",
            "57/57 [==============================] - 22s 393ms/step - loss: 1.3415 - acc: 0.5758\n",
            "Epoch 75/250\n",
            "57/57 [==============================] - 22s 393ms/step - loss: 1.3226 - acc: 0.5783\n",
            "Epoch 76/250\n",
            "57/57 [==============================] - 22s 393ms/step - loss: 1.3010 - acc: 0.5836\n",
            "Epoch 77/250\n",
            "57/57 [==============================] - 22s 394ms/step - loss: 1.3014 - acc: 0.5831\n",
            "Epoch 78/250\n",
            "57/57 [==============================] - 22s 393ms/step - loss: 1.3058 - acc: 0.5806\n",
            "Epoch 79/250\n",
            "57/57 [==============================] - 22s 391ms/step - loss: 1.2957 - acc: 0.5911\n",
            "Epoch 80/250\n",
            "57/57 [==============================] - 22s 393ms/step - loss: 1.2793 - acc: 0.5906\n",
            "Epoch 81/250\n",
            "57/57 [==============================] - 22s 392ms/step - loss: 1.2686 - acc: 0.5967\n",
            "Epoch 82/250\n",
            "57/57 [==============================] - 22s 393ms/step - loss: 1.2593 - acc: 0.5983\n",
            "Epoch 83/250\n",
            "57/57 [==============================] - 22s 393ms/step - loss: 1.2447 - acc: 0.5983\n",
            "Epoch 84/250\n",
            "57/57 [==============================] - 22s 394ms/step - loss: 1.2330 - acc: 0.6167\n",
            "Epoch 85/250\n",
            "57/57 [==============================] - 22s 393ms/step - loss: 1.2125 - acc: 0.6178\n",
            "Epoch 86/250\n",
            "57/57 [==============================] - 22s 393ms/step - loss: 1.2256 - acc: 0.6150\n",
            "Epoch 87/250\n",
            "57/57 [==============================] - 22s 394ms/step - loss: 1.1999 - acc: 0.6156\n",
            "Epoch 88/250\n",
            "57/57 [==============================] - 22s 394ms/step - loss: 1.1852 - acc: 0.6269\n",
            "Epoch 89/250\n",
            "57/57 [==============================] - 22s 393ms/step - loss: 1.2014 - acc: 0.6119\n",
            "Epoch 90/250\n",
            "57/57 [==============================] - 22s 393ms/step - loss: 1.1762 - acc: 0.6258\n",
            "Epoch 91/250\n",
            "57/57 [==============================] - 22s 394ms/step - loss: 1.1744 - acc: 0.6269\n",
            "Epoch 92/250\n",
            "57/57 [==============================] - 22s 393ms/step - loss: 1.1628 - acc: 0.6244\n",
            "Epoch 93/250\n",
            "57/57 [==============================] - 22s 394ms/step - loss: 1.1573 - acc: 0.6339\n",
            "Epoch 94/250\n",
            "57/57 [==============================] - 22s 394ms/step - loss: 1.1470 - acc: 0.6364\n",
            "Epoch 95/250\n",
            "57/57 [==============================] - 22s 393ms/step - loss: 1.1449 - acc: 0.6372\n",
            "Epoch 96/250\n",
            "57/57 [==============================] - 22s 393ms/step - loss: 1.1296 - acc: 0.6439\n",
            "Epoch 97/250\n",
            "57/57 [==============================] - 22s 392ms/step - loss: 1.1103 - acc: 0.6469\n",
            "Epoch 98/250\n",
            "57/57 [==============================] - 22s 393ms/step - loss: 1.1054 - acc: 0.6439\n",
            "Epoch 99/250\n",
            "57/57 [==============================] - 22s 394ms/step - loss: 1.1061 - acc: 0.6467\n",
            "Epoch 100/250\n",
            "57/57 [==============================] - 22s 393ms/step - loss: 1.1030 - acc: 0.6533\n",
            "Epoch 101/250\n",
            "57/57 [==============================] - 22s 393ms/step - loss: 1.0696 - acc: 0.6594\n",
            "Epoch 102/250\n",
            "57/57 [==============================] - 22s 394ms/step - loss: 1.0804 - acc: 0.6522\n",
            "Epoch 103/250\n",
            "57/57 [==============================] - 23s 395ms/step - loss: 1.0703 - acc: 0.6622\n",
            "Epoch 104/250\n",
            "57/57 [==============================] - 22s 393ms/step - loss: 1.0733 - acc: 0.6536\n",
            "Epoch 105/250\n",
            "57/57 [==============================] - 22s 395ms/step - loss: 1.0282 - acc: 0.6758\n",
            "Epoch 106/250\n",
            "57/57 [==============================] - 23s 395ms/step - loss: 1.0593 - acc: 0.6592\n",
            "Epoch 107/250\n",
            "57/57 [==============================] - 22s 393ms/step - loss: 1.0432 - acc: 0.6683\n",
            "Epoch 108/250\n",
            "57/57 [==============================] - 22s 395ms/step - loss: 1.0216 - acc: 0.6825\n",
            "Epoch 109/250\n",
            "57/57 [==============================] - 23s 396ms/step - loss: 1.0225 - acc: 0.6778\n",
            "Epoch 110/250\n",
            "57/57 [==============================] - 22s 394ms/step - loss: 0.9962 - acc: 0.6839\n",
            "Epoch 111/250\n",
            "57/57 [==============================] - 22s 395ms/step - loss: 1.0099 - acc: 0.6819\n",
            "Epoch 112/250\n",
            "57/57 [==============================] - 22s 394ms/step - loss: 1.0030 - acc: 0.6789\n",
            "Epoch 113/250\n",
            "57/57 [==============================] - 22s 394ms/step - loss: 0.9861 - acc: 0.6953\n",
            "Epoch 114/250\n",
            "57/57 [==============================] - 22s 394ms/step - loss: 1.0008 - acc: 0.6856\n",
            "Epoch 115/250\n",
            "57/57 [==============================] - 23s 395ms/step - loss: 0.9874 - acc: 0.6856\n",
            "Epoch 116/250\n",
            "57/57 [==============================] - 22s 395ms/step - loss: 0.9837 - acc: 0.6947\n",
            "Epoch 117/250\n",
            "57/57 [==============================] - 22s 394ms/step - loss: 0.9731 - acc: 0.6931\n",
            "Epoch 118/250\n",
            "57/57 [==============================] - 23s 396ms/step - loss: 0.9459 - acc: 0.7008\n",
            "Epoch 119/250\n",
            "57/57 [==============================] - 22s 395ms/step - loss: 0.9416 - acc: 0.7047\n",
            "Epoch 120/250\n",
            "57/57 [==============================] - 22s 395ms/step - loss: 0.9384 - acc: 0.7075\n",
            "Epoch 121/250\n",
            "57/57 [==============================] - 23s 395ms/step - loss: 0.9511 - acc: 0.6883\n",
            "Epoch 122/250\n",
            "57/57 [==============================] - 23s 395ms/step - loss: 0.9270 - acc: 0.7092\n",
            "Epoch 123/250\n",
            "57/57 [==============================] - 22s 394ms/step - loss: 0.9283 - acc: 0.7061\n",
            "Epoch 124/250\n",
            "57/57 [==============================] - 22s 393ms/step - loss: 0.9164 - acc: 0.7111\n",
            "Epoch 125/250\n",
            "57/57 [==============================] - 22s 393ms/step - loss: 0.9019 - acc: 0.7272\n",
            "Epoch 126/250\n",
            "57/57 [==============================] - 22s 393ms/step - loss: 0.9222 - acc: 0.7036\n",
            "Epoch 127/250\n",
            "57/57 [==============================] - 23s 395ms/step - loss: 0.9016 - acc: 0.7197\n",
            "Epoch 128/250\n",
            "57/57 [==============================] - 22s 393ms/step - loss: 0.8870 - acc: 0.7197\n",
            "Epoch 129/250\n",
            "57/57 [==============================] - 23s 396ms/step - loss: 0.8948 - acc: 0.7156\n",
            "Epoch 130/250\n",
            "57/57 [==============================] - 23s 395ms/step - loss: 0.8876 - acc: 0.7292\n",
            "Epoch 131/250\n",
            "57/57 [==============================] - 22s 394ms/step - loss: 0.8762 - acc: 0.7197\n",
            "Epoch 132/250\n",
            "57/57 [==============================] - 23s 395ms/step - loss: 0.8851 - acc: 0.7161\n",
            "Epoch 133/250\n",
            "57/57 [==============================] - 22s 394ms/step - loss: 0.8606 - acc: 0.7333\n",
            "Epoch 134/250\n",
            "57/57 [==============================] - 22s 394ms/step - loss: 0.8653 - acc: 0.7297\n",
            "Epoch 135/250\n",
            "57/57 [==============================] - 22s 394ms/step - loss: 0.8363 - acc: 0.7394\n",
            "Epoch 136/250\n",
            "57/57 [==============================] - 22s 394ms/step - loss: 0.8351 - acc: 0.7350\n",
            "Epoch 137/250\n",
            "57/57 [==============================] - 22s 394ms/step - loss: 0.8301 - acc: 0.7425\n",
            "Epoch 138/250\n",
            "57/57 [==============================] - 22s 394ms/step - loss: 0.8346 - acc: 0.7311\n",
            "Epoch 139/250\n",
            "57/57 [==============================] - 22s 394ms/step - loss: 0.8225 - acc: 0.7478\n",
            "Epoch 140/250\n",
            "57/57 [==============================] - 22s 394ms/step - loss: 0.8078 - acc: 0.7494\n",
            "Epoch 141/250\n",
            "57/57 [==============================] - 22s 394ms/step - loss: 0.8132 - acc: 0.7439\n",
            "Epoch 142/250\n",
            "57/57 [==============================] - 22s 394ms/step - loss: 0.8040 - acc: 0.7514\n",
            "Epoch 143/250\n",
            "57/57 [==============================] - 22s 395ms/step - loss: 0.8085 - acc: 0.7444\n",
            "Epoch 144/250\n",
            "57/57 [==============================] - 23s 395ms/step - loss: 0.7894 - acc: 0.7564\n",
            "Epoch 145/250\n",
            "57/57 [==============================] - 22s 394ms/step - loss: 0.7884 - acc: 0.7544\n",
            "Epoch 146/250\n",
            "57/57 [==============================] - 22s 394ms/step - loss: 0.7711 - acc: 0.7639\n",
            "Epoch 147/250\n",
            "57/57 [==============================] - 22s 394ms/step - loss: 0.7656 - acc: 0.7647\n",
            "Epoch 148/250\n",
            "57/57 [==============================] - 22s 393ms/step - loss: 0.7742 - acc: 0.7647\n",
            "Epoch 149/250\n",
            "57/57 [==============================] - 22s 394ms/step - loss: 0.7570 - acc: 0.7681\n",
            "Epoch 150/250\n",
            "57/57 [==============================] - 23s 395ms/step - loss: 0.7693 - acc: 0.7625\n",
            "Epoch 151/250\n",
            "57/57 [==============================] - 22s 393ms/step - loss: 0.7314 - acc: 0.7794\n",
            "Epoch 152/250\n",
            "57/57 [==============================] - 22s 394ms/step - loss: 0.7468 - acc: 0.7717\n",
            "Epoch 153/250\n",
            "57/57 [==============================] - 23s 395ms/step - loss: 0.7580 - acc: 0.7692\n",
            "Epoch 154/250\n",
            "57/57 [==============================] - 23s 396ms/step - loss: 0.7209 - acc: 0.7828\n",
            "Epoch 155/250\n",
            "57/57 [==============================] - 23s 397ms/step - loss: 0.7327 - acc: 0.7761\n",
            "Epoch 156/250\n",
            "57/57 [==============================] - 23s 397ms/step - loss: 0.7213 - acc: 0.7781\n",
            "Epoch 157/250\n",
            "57/57 [==============================] - 23s 396ms/step - loss: 0.7436 - acc: 0.7703\n",
            "Epoch 158/250\n",
            "57/57 [==============================] - 23s 397ms/step - loss: 0.7180 - acc: 0.7811\n",
            "Epoch 159/250\n",
            "57/57 [==============================] - 23s 396ms/step - loss: 0.6999 - acc: 0.7836\n",
            "Epoch 160/250\n",
            "57/57 [==============================] - 23s 395ms/step - loss: 0.7036 - acc: 0.7864\n",
            "Epoch 161/250\n",
            "57/57 [==============================] - 22s 395ms/step - loss: 0.6936 - acc: 0.7992\n",
            "Epoch 162/250\n",
            "57/57 [==============================] - 22s 395ms/step - loss: 0.6766 - acc: 0.7961\n",
            "Epoch 163/250\n",
            "57/57 [==============================] - 22s 394ms/step - loss: 0.6855 - acc: 0.7897\n",
            "Epoch 164/250\n",
            "57/57 [==============================] - 22s 395ms/step - loss: 0.6627 - acc: 0.8017\n",
            "Epoch 165/250\n",
            "57/57 [==============================] - 22s 393ms/step - loss: 0.7066 - acc: 0.7850\n",
            "Epoch 166/250\n",
            "57/57 [==============================] - 22s 392ms/step - loss: 0.6628 - acc: 0.7986\n",
            "Epoch 167/250\n",
            "57/57 [==============================] - 22s 393ms/step - loss: 0.6783 - acc: 0.7958\n",
            "Epoch 168/250\n",
            "57/57 [==============================] - 22s 393ms/step - loss: 0.6553 - acc: 0.8039\n",
            "Epoch 169/250\n",
            "57/57 [==============================] - 22s 394ms/step - loss: 0.6792 - acc: 0.7908\n",
            "Epoch 170/250\n",
            "57/57 [==============================] - 22s 393ms/step - loss: 0.6511 - acc: 0.8042\n",
            "Epoch 171/250\n",
            "57/57 [==============================] - 22s 393ms/step - loss: 0.6653 - acc: 0.7936\n",
            "Epoch 172/250\n",
            "57/57 [==============================] - 22s 394ms/step - loss: 0.6363 - acc: 0.8058\n",
            "Epoch 173/250\n",
            "57/57 [==============================] - 22s 392ms/step - loss: 0.6906 - acc: 0.7903\n",
            "Epoch 174/250\n",
            "57/57 [==============================] - 22s 392ms/step - loss: 0.6356 - acc: 0.8050\n",
            "Epoch 175/250\n",
            "57/57 [==============================] - 22s 394ms/step - loss: 0.6300 - acc: 0.8064\n",
            "Epoch 176/250\n",
            "57/57 [==============================] - 22s 393ms/step - loss: 0.6234 - acc: 0.8231\n",
            "Epoch 177/250\n",
            "57/57 [==============================] - 22s 392ms/step - loss: 0.6320 - acc: 0.8078\n",
            "Epoch 178/250\n",
            "57/57 [==============================] - 22s 394ms/step - loss: 0.6210 - acc: 0.8122\n",
            "Epoch 179/250\n",
            "57/57 [==============================] - 22s 392ms/step - loss: 0.6131 - acc: 0.8153\n",
            "Epoch 180/250\n",
            "57/57 [==============================] - 22s 394ms/step - loss: 0.6226 - acc: 0.8092\n",
            "Epoch 181/250\n",
            "57/57 [==============================] - 22s 394ms/step - loss: 0.5798 - acc: 0.8269\n",
            "Epoch 182/250\n",
            "57/57 [==============================] - 22s 395ms/step - loss: 0.6048 - acc: 0.8178\n",
            "Epoch 183/250\n",
            "57/57 [==============================] - 22s 393ms/step - loss: 0.5805 - acc: 0.8272\n",
            "Epoch 184/250\n",
            "57/57 [==============================] - 22s 393ms/step - loss: 0.6041 - acc: 0.8214\n",
            "Epoch 185/250\n",
            "57/57 [==============================] - 22s 393ms/step - loss: 0.5911 - acc: 0.8147\n",
            "Epoch 186/250\n",
            "57/57 [==============================] - 22s 393ms/step - loss: 0.5742 - acc: 0.8250\n",
            "Epoch 187/250\n",
            "57/57 [==============================] - 22s 394ms/step - loss: 0.5556 - acc: 0.8372\n",
            "Epoch 188/250\n",
            "57/57 [==============================] - 22s 393ms/step - loss: 0.5587 - acc: 0.8336\n",
            "Epoch 189/250\n",
            "57/57 [==============================] - 22s 393ms/step - loss: 0.5682 - acc: 0.8278\n",
            "Epoch 190/250\n",
            "57/57 [==============================] - 22s 392ms/step - loss: 0.5579 - acc: 0.8336\n",
            "Epoch 191/250\n",
            "57/57 [==============================] - 22s 394ms/step - loss: 0.5739 - acc: 0.8250\n",
            "Epoch 192/250\n",
            "57/57 [==============================] - 22s 394ms/step - loss: 0.5406 - acc: 0.8331\n",
            "Epoch 193/250\n",
            "57/57 [==============================] - 22s 393ms/step - loss: 0.5537 - acc: 0.8308\n",
            "Epoch 194/250\n",
            "57/57 [==============================] - 22s 392ms/step - loss: 0.5817 - acc: 0.8247\n",
            "Epoch 195/250\n",
            "57/57 [==============================] - 22s 392ms/step - loss: 0.5352 - acc: 0.8494\n",
            "Epoch 196/250\n",
            "57/57 [==============================] - 22s 393ms/step - loss: 0.5518 - acc: 0.8389\n",
            "Epoch 197/250\n",
            "57/57 [==============================] - 22s 394ms/step - loss: 0.5292 - acc: 0.8489\n",
            "Epoch 198/250\n",
            "57/57 [==============================] - 22s 393ms/step - loss: 0.5414 - acc: 0.8369\n",
            "Epoch 199/250\n",
            "57/57 [==============================] - 22s 395ms/step - loss: 0.5178 - acc: 0.8447\n",
            "Epoch 200/250\n",
            "57/57 [==============================] - 23s 396ms/step - loss: 0.5667 - acc: 0.8308\n",
            "Epoch 201/250\n",
            "57/57 [==============================] - 23s 396ms/step - loss: 0.5129 - acc: 0.8497\n",
            "Epoch 202/250\n",
            "57/57 [==============================] - 22s 395ms/step - loss: 0.5208 - acc: 0.8483\n",
            "Epoch 203/250\n",
            "57/57 [==============================] - 23s 396ms/step - loss: 0.5515 - acc: 0.8464\n",
            "Epoch 204/250\n",
            "57/57 [==============================] - 23s 398ms/step - loss: 0.5206 - acc: 0.8489\n",
            "Epoch 205/250\n",
            "57/57 [==============================] - 22s 394ms/step - loss: 0.5081 - acc: 0.8481\n",
            "Epoch 206/250\n",
            "57/57 [==============================] - 23s 395ms/step - loss: 0.4867 - acc: 0.8533\n",
            "Epoch 207/250\n",
            "57/57 [==============================] - 22s 393ms/step - loss: 0.5201 - acc: 0.8406\n",
            "Epoch 208/250\n",
            "57/57 [==============================] - 22s 393ms/step - loss: 0.4874 - acc: 0.8581\n",
            "Epoch 209/250\n",
            "57/57 [==============================] - 22s 393ms/step - loss: 0.4893 - acc: 0.8539\n",
            "Epoch 210/250\n",
            "57/57 [==============================] - 22s 394ms/step - loss: 0.4822 - acc: 0.8544\n",
            "Epoch 211/250\n",
            "57/57 [==============================] - 22s 393ms/step - loss: 0.4511 - acc: 0.8692\n",
            "Epoch 212/250\n",
            "57/57 [==============================] - 23s 395ms/step - loss: 0.4809 - acc: 0.8597\n",
            "Epoch 213/250\n",
            "57/57 [==============================] - 22s 394ms/step - loss: 0.4864 - acc: 0.8597\n",
            "Epoch 214/250\n",
            "57/57 [==============================] - 22s 394ms/step - loss: 0.4733 - acc: 0.8597\n",
            "Epoch 215/250\n",
            "57/57 [==============================] - 22s 395ms/step - loss: 0.4678 - acc: 0.8619\n",
            "Epoch 216/250\n",
            "57/57 [==============================] - 22s 394ms/step - loss: 0.4525 - acc: 0.8644\n",
            "Epoch 217/250\n",
            "57/57 [==============================] - 22s 394ms/step - loss: 0.4566 - acc: 0.8667\n",
            "Epoch 218/250\n",
            "57/57 [==============================] - 22s 394ms/step - loss: 0.4437 - acc: 0.8722\n",
            "Epoch 219/250\n",
            "57/57 [==============================] - 22s 394ms/step - loss: 0.4524 - acc: 0.8656\n",
            "Epoch 220/250\n",
            "57/57 [==============================] - 22s 394ms/step - loss: 0.4550 - acc: 0.8686\n",
            "Epoch 221/250\n",
            "57/57 [==============================] - 22s 394ms/step - loss: 0.4974 - acc: 0.8553\n",
            "Epoch 222/250\n",
            "57/57 [==============================] - 23s 395ms/step - loss: 0.4497 - acc: 0.8694\n",
            "Epoch 223/250\n",
            "57/57 [==============================] - 22s 394ms/step - loss: 0.4270 - acc: 0.8767\n",
            "Epoch 224/250\n",
            "57/57 [==============================] - 22s 394ms/step - loss: 0.4489 - acc: 0.8672\n",
            "Epoch 225/250\n",
            "57/57 [==============================] - 23s 395ms/step - loss: 0.4066 - acc: 0.8744\n",
            "Epoch 226/250\n",
            "57/57 [==============================] - 22s 394ms/step - loss: 0.4367 - acc: 0.8706\n",
            "Epoch 227/250\n",
            "57/57 [==============================] - 22s 394ms/step - loss: 0.4250 - acc: 0.8797\n",
            "Epoch 228/250\n",
            "57/57 [==============================] - 22s 395ms/step - loss: 0.4428 - acc: 0.8717\n",
            "Epoch 229/250\n",
            "57/57 [==============================] - 23s 395ms/step - loss: 0.4337 - acc: 0.8797\n",
            "Epoch 230/250\n",
            "57/57 [==============================] - 22s 394ms/step - loss: 0.4416 - acc: 0.8694\n",
            "Epoch 231/250\n",
            "57/57 [==============================] - 23s 395ms/step - loss: 0.4313 - acc: 0.8792\n",
            "Epoch 232/250\n",
            "57/57 [==============================] - 23s 395ms/step - loss: 0.4035 - acc: 0.8831\n",
            "Epoch 233/250\n",
            "57/57 [==============================] - 22s 394ms/step - loss: 0.4018 - acc: 0.8808\n",
            "Epoch 234/250\n",
            "57/57 [==============================] - 23s 395ms/step - loss: 0.4007 - acc: 0.8858\n",
            "Epoch 235/250\n",
            "57/57 [==============================] - 22s 394ms/step - loss: 0.4246 - acc: 0.8797\n",
            "Epoch 236/250\n",
            "57/57 [==============================] - 22s 394ms/step - loss: 0.3686 - acc: 0.8986\n",
            "Epoch 237/250\n",
            "57/57 [==============================] - 22s 393ms/step - loss: 0.4332 - acc: 0.8831\n",
            "Epoch 238/250\n",
            "57/57 [==============================] - 22s 394ms/step - loss: 0.3957 - acc: 0.8839\n",
            "Epoch 239/250\n",
            "57/57 [==============================] - 22s 393ms/step - loss: 0.3697 - acc: 0.8919\n",
            "Epoch 240/250\n",
            "57/57 [==============================] - 22s 392ms/step - loss: 0.3889 - acc: 0.8844\n",
            "Epoch 241/250\n",
            "57/57 [==============================] - 22s 394ms/step - loss: 0.3551 - acc: 0.9000\n",
            "Epoch 242/250\n",
            "57/57 [==============================] - 22s 394ms/step - loss: 0.3958 - acc: 0.8872\n",
            "Epoch 243/250\n",
            "57/57 [==============================] - 22s 393ms/step - loss: 0.3539 - acc: 0.8953\n",
            "Epoch 244/250\n",
            "57/57 [==============================] - 23s 395ms/step - loss: 0.3586 - acc: 0.8994\n",
            "Epoch 245/250\n",
            "57/57 [==============================] - 22s 394ms/step - loss: 0.3695 - acc: 0.8975\n",
            "Epoch 246/250\n",
            "57/57 [==============================] - 22s 394ms/step - loss: 0.3993 - acc: 0.8808\n",
            "Epoch 247/250\n",
            "57/57 [==============================] - 22s 393ms/step - loss: 0.3608 - acc: 0.8956\n",
            "Epoch 248/250\n",
            "57/57 [==============================] - 22s 393ms/step - loss: 0.3765 - acc: 0.8936\n",
            "Epoch 249/250\n",
            "57/57 [==============================] - 22s 394ms/step - loss: 0.3405 - acc: 0.9064\n",
            "Epoch 250/250\n",
            "57/57 [==============================] - 22s 395ms/step - loss: 0.3689 - acc: 0.8947\n",
            "CPU times: user 1h 21min 15s, sys: 12min 46s, total: 1h 34min 2s\n",
            "Wall time: 1h 34min 39s\n"
          ]
        }
      ]
    },
    {
      "cell_type": "code",
      "source": [
        "plt.plot(hist.history['acc'])\n",
        "plt.title('model accuracy')\n",
        "plt.ylabel('accuracy')\n",
        "plt.xlabel('epoch')\n",
        "plt.savefig('model_acc.png')\n",
        "plt.show()"
      ],
      "metadata": {
        "id": "9rwwIH15BE1H",
        "colab": {
          "base_uri": "https://localhost:8080/",
          "height": 295
        },
        "outputId": "5d961760-bb49-4d66-fa26-d744140dc7a6"
      },
      "execution_count": 15,
      "outputs": [
        {
          "output_type": "display_data",
          "data": {
            "image/png": "[encoded data removed]",
            "text/plain": [
              "<Figure size 432x288 with 1 Axes>"
            ]
          },
          "metadata": {
            "needs_background": "light"
          }
        }
      ]
    },
    {
      "cell_type": "code",
      "source": [
        "plt.plot(hist.history['loss'])\n",
        "plt.title('model loss')\n",
        "plt.ylabel('loss')\n",
        "plt.xlabel('epoch')\n",
        "plt.savefig('model_loss.png')\n",
        "plt.show()"
      ],
      "metadata": {
        "id": "st-shYFjT3gz",
        "colab": {
          "base_uri": "https://localhost:8080/",
          "height": 295
        },
        "outputId": "9bc2c710-db14-4c30-bfc1-d48671a7644f"
      },
      "execution_count": 16,
      "outputs": [
        {
          "output_type": "display_data",
          "data": {
            "image/png": "[encoded data removed]",
            "text/plain": [
              "<Figure size 432x288 with 1 Axes>"
            ]
          },
          "metadata": {
            "needs_background": "light"
          }
        }
      ]
    },
    {
      "cell_type": "code",
      "source": [
        "model.save('model_cv')"
      ],
      "metadata": {
        "id": "6R47fjRN8Grr"
      },
      "execution_count": null,
      "outputs": []
    },
    {
      "cell_type": "code",
      "source": [
        "!zip -r model_cv.zip model_cv"
      ],
      "metadata": {
        "id": "w9MsOxn7VUIW"
      },
      "execution_count": null,
      "outputs": []
    },
    {
      "cell_type": "markdown",
      "source": [
        "#Load the trained model and make prediction"
      ],
      "metadata": {
        "id": "avf5EYDoIUQF"
      }
    },
    {
      "cell_type": "code",
      "source": [
        "!unzip -q model_cv.zip"
      ],
      "metadata": {
        "id": "_pXLN_c_J3HS"
      },
      "execution_count": 12,
      "outputs": []
    },
    {
      "cell_type": "code",
      "source": [
        "model = keras.models.load_model('/content/model_cv')"
      ],
      "metadata": {
        "id": "eRyDbX7AKk2c"
      },
      "execution_count": 22,
      "outputs": []
    },
    {
      "cell_type": "code",
      "source": [
        "prds = model.predict([bd_test,rh_test,lh_test,rf_test,lf_test],\n",
        "                     batch_size=8)\n",
        "\n",
        "pre_labels = np.array([np.argmax(i) for i in prds])\n",
        "\n",
        "label_test = np.argmax(cat_target_test, axis=1)\n",
        "\n",
        "test_acc = np.sum(label_test  == pre_labels) / len(pre_labels)\n",
        "\n",
        "print(f\"Test accuracy: {100 * test_acc}%\")"
      ],
      "metadata": {
        "colab": {
          "base_uri": "https://localhost:8080/"
        },
        "id": "JUmLqMZsIXWN",
        "outputId": "b78e2d9f-71d2-4e25-a75c-d2d5fd472e5d"
      },
      "execution_count": 23,
      "outputs": [
        {
          "output_type": "stream",
          "name": "stdout",
          "text": [
            "Test accuracy: 80.5%\n"
          ]
        }
      ]
    },
    {
      "cell_type": "markdown",
      "source": [
        "#Visualization of results"
      ],
      "metadata": {
        "id": "hO3BnPJD_fnH"
      }
    },
    {
      "cell_type": "code",
      "source": [
        "true_indexes = np.where(label_test == pre_labels)[0]\n",
        "false_indexes = np.where(label_test != pre_labels)[0]"
      ],
      "metadata": {
        "id": "xEQ1WJ1lMPn2"
      },
      "execution_count": 66,
      "outputs": []
    },
    {
      "cell_type": "code",
      "source": [
        "random_true_idx = np.random.choice(true_indexes)\n",
        "random_false_idx = np.random.choice(false_indexes)"
      ],
      "metadata": {
        "id": "DOIPjQi5Mkkc"
      },
      "execution_count": 67,
      "outputs": []
    },
    {
      "cell_type": "code",
      "source": [
        "visualize(file_number=random_true_idx, verbose=False)#True Prediction"
      ],
      "metadata": {
        "id": "jBEwuPC_BbGA"
      },
      "execution_count": 68,
      "outputs": []
    },
    {
      "cell_type": "code",
      "source": [
        "!rm -r *_plot.png"
      ],
      "metadata": {
        "id": "uC2NdIVgOlFN"
      },
      "execution_count": 69,
      "outputs": []
    },
    {
      "cell_type": "code",
      "source": [
        "visualize(file_number=random_false_idx, verbose=False)#False Prediction"
      ],
      "metadata": {
        "id": "63KyiAVEMLMz"
      },
      "execution_count": 79,
      "outputs": []
    },
    {
      "cell_type": "code",
      "source": [
        "!rm -r *_plot.png"
      ],
      "metadata": {
        "id": "8NZ4ejY9CsHb"
      },
      "execution_count": 80,
      "outputs": []
    }
  ]
}